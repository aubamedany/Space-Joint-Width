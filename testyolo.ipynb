{
 "cells": [
  {
   "cell_type": "code",
   "execution_count": 40,
   "metadata": {},
   "outputs": [
    {
     "name": "stdout",
     "output_type": "stream",
     "text": [
      "Ultralytics YOLOv8.2.2 🚀 Python-3.8.0 torch-2.2.1 CPU (Apple M1)\n",
      "Setup complete ✅ (8 CPUs, 16.0 GB RAM, 286.4/460.4 GB disk)\n"
     ]
    }
   ],
   "source": [
    "\n",
    "from IPython import display\n",
    "display.clear_output()\n",
    "import numpy as np\n",
    "import ultralytics\n",
    "ultralytics.checks()\n",
    "from ultralytics import YOLO\n",
    "import torch\n",
    "from IPython.display import display, Image\n",
    "from pathlib import Path\n",
    "import cv2\n"
   ]
  },
  {
   "cell_type": "code",
   "execution_count": 8,
   "metadata": {},
   "outputs": [
    {
     "name": "stdout",
     "output_type": "stream",
     "text": [
      "loading Roboflow workspace...\n",
      "loading Roboflow project...\n",
      "Dependency ultralytics==8.0.196 is required but found version=8.2.2, to fix: `pip install ultralytics==8.0.196`\n"
     ]
    },
    {
     "name": "stderr",
     "output_type": "stream",
     "text": [
      "Downloading Dataset Version Zip in kneeOA-2-1 to yolov8:: 100%|██████████| 23067/23067 [00:12<00:00, 1919.05it/s]"
     ]
    },
    {
     "name": "stdout",
     "output_type": "stream",
     "text": [
      "\n"
     ]
    },
    {
     "name": "stderr",
     "output_type": "stream",
     "text": [
      "\n",
      "Extracting Dataset Version Zip to kneeOA-2-1 in yolov8:: 100%|██████████| 1224/1224 [00:00<00:00, 2158.93it/s]\n"
     ]
    }
   ],
   "source": [
    "from roboflow import Roboflow\n",
    "rf = Roboflow(api_key=\"FPMUpkcgXPXar7iXvDot\")\n",
    "project = rf.workspace(\"um-ajvmw\").project(\"kneeoa-2\")\n",
    "version = project.version(1)\n",
    "dataset = version.download(\"yolov8\")"
   ]
  },
  {
   "cell_type": "code",
   "execution_count": 21,
   "metadata": {},
   "outputs": [],
   "source": [
    "model = YOLO(\"best.pt\")"
   ]
  },
  {
   "cell_type": "code",
   "execution_count": 67,
   "metadata": {},
   "outputs": [
    {
     "name": "stdout",
     "output_type": "stream",
     "text": [
      "WARNING ⚠️ 'hide_labels' is deprecated and will be removed in 'ultralytics 8.399999999999999' in the future. Please use 'show_labels' instead.\n",
      "WARNING ⚠️ 'boxes' is deprecated and will be removed in 'ultralytics 8.399999999999999' in the future. Please use 'show_boxes' instead.\n",
      "\n",
      "image 1/1 /Users/namle/Desktop/SegJSW/9003175L.png: 640x640 1 femur, 1 tibia, 3145.5ms\n",
      "Speed: 10.2ms preprocess, 3145.5ms inference, 5.7ms postprocess per image at shape (1, 3, 640, 640)\n",
      "Results saved to \u001b[1mruns/segment/predict4\u001b[0m\n"
     ]
    }
   ],
   "source": [
    "with torch.no_grad():\n",
    "    results = model.predict(task=\"segment\", source=\"9003175L.png\", conf=0.25, hide_labels=True, show_conf=False, save=True, augment=False, boxes=False) "
   ]
  },
  {
   "cell_type": "code",
   "execution_count": null,
   "metadata": {},
   "outputs": [],
   "source": [
    "res_img = cv2.imread(\"/Users/namle/Desktop/SegJSW/runs/segment/predict4/9997856L.png\")\n"
   ]
  },
  {
   "cell_type": "code",
   "execution_count": 464,
   "metadata": {},
   "outputs": [],
   "source": [
    "contours = []\n",
    "upper_mask = np.zeros(img.shape[:2], np.uint8)\n",
    "lower_mask = np.zeros(img.shape[:2], np.uint8)\n",
    "b_mask = np.zeros(img.shape[:2], np.uint8)\n",
    "for r in results:\n",
    "    \n",
    "    img = np.copy(r.orig_img)\n",
    "    img_name = Path(r.path).stem  # source image base-name\n",
    "    \n",
    "    for ci, c in enumerate(r):\n",
    "        label = c.names[c.boxes.cls.tolist().pop()]\n",
    "        \n",
    "        contour = c.masks.xy.pop().astype(np.int32).reshape(-1, 1, 2)\n",
    "        contours.append(contour)\n",
    "        _ = cv2.drawContours(b_mask, [contours[0]], -1, 255, 1)\n",
    "        mask3ch = cv2.cvtColor(b_mask, cv2.COLOR_GRAY2BGR)\n",
    "        # res.append(mask3ch)\n",
    "        isolated = cv2.bitwise_and(mask3ch, img)\n",
    "\n",
    "\n",
    "\n",
    "    _ = cv2.drawContours(upper_mask, [contours[0]], -1, 255, 1)\n",
    "    _ = cv2.drawContours(lower_mask, [contours[1]], -1, 255, 1)\n",
    "        \n",
    "nonzero = b_mask.nonzero() \n",
    "nonzero_upper = upper_mask.nonzero() \n",
    "nonzero_lower = lower_mask.nonzero()     \n",
    "        \n",
    "\n",
    "        "
   ]
  },
  {
   "cell_type": "code",
   "execution_count": 465,
   "metadata": {},
   "outputs": [],
   "source": [
    "upper_point = []\n",
    "lower_point = []\n",
    "point =[]\n",
    "for i in range(nonzero_upper[1].shape[0]):\n",
    "    upper_point.append([nonzero_upper[1][i], nonzero_upper[0][i]])\n",
    "for i in range(nonzero_lower[1].shape[0]):\n",
    "    lower_point.append([nonzero_lower[1][i], nonzero_lower[0][i]])\n",
    "for i in range(nonzero[1].shape[0]):\n",
    "    point.append([nonzero[1][i], nonzero[0][i]])\n",
    "\n",
    "\n",
    "upper_point = np.array(upper_point)\n",
    "lower_point = np.array(lower_point)\n",
    "point  = np.array(point)"
   ]
  },
  {
   "cell_type": "code",
   "execution_count": 466,
   "metadata": {},
   "outputs": [],
   "source": [
    "\n",
    "x_min_upper = np.min(upper_point[:,0])\n",
    "x_max_upper = np.max(upper_point[:,0])\n",
    "x_min_lower =np.min(lower_point[:,0])\n",
    "x_max_lower =   np.max(lower_point[:,0])\n",
    "\n",
    "y_min_upper = np.min(upper_point[:,1])\n",
    "y_max_upper = np.max(upper_point[:,1])\n",
    "y_min_lower =np.min(lower_point[:,1])\n",
    "y_max_lower =   np.max(lower_point[:,1])\n",
    "\n",
    "x_min = np.min([x_min_upper,x_min_lower])\n",
    "x_max = np.min([x_max_upper,x_max_lower])"
   ]
  },
  {
   "cell_type": "markdown",
   "metadata": {},
   "source": [
    "delete bottom and top line\n"
   ]
  },
  {
   "cell_type": "code",
   "execution_count": 468,
   "metadata": {},
   "outputs": [],
   "source": [
    "upper_point = [p for p in list(upper_point) if p[1]!=1]\n",
    "lower_point = [p for p in list(lower_point) if p[1]!=223]"
   ]
  },
  {
   "cell_type": "markdown",
   "metadata": {},
   "source": [
    "Get 4 point "
   ]
  },
  {
   "cell_type": "code",
   "execution_count": 490,
   "metadata": {},
   "outputs": [],
   "source": [
    "p_intersect = []\n",
    "for p in upper_point:\n",
    "    if p[1] == y_min_lower:\n",
    "        if  not p_intersect: \n",
    "            p_intersect.append(p)\n",
    "        else:\n",
    "            if abs(p[0] - p_intersect[-1][0])>=10:\n",
    "                p_intersect.append(p)\n",
    "            \n"
   ]
  },
  {
   "cell_type": "code",
   "execution_count": 504,
   "metadata": {},
   "outputs": [],
   "source": [
    "x_min_left = max(p_intersect[0][0],x_min_upper,x_min_lower)\n",
    "x_max_left= p_intersect[1][0]\n",
    "x_min_right= p_intersect[2][0]\n",
    "x_max_right = min(p_intersect[3][0],x_max_upper,x_max_lower)"
   ]
  },
  {
   "cell_type": "code",
   "execution_count": 540,
   "metadata": {},
   "outputs": [],
   "source": [
    "upper_point = sorted(upper_point, key=lambda x: x[0])\n",
    "lower_point = sorted(lower_point, key=lambda x: x[0])\n"
   ]
  },
  {
   "cell_type": "code",
   "execution_count": 541,
   "metadata": {},
   "outputs": [],
   "source": [
    "upper_left = []\n",
    "upper_right = []\n",
    "lower_left = []\n",
    "lower_right = []\n",
    "\n",
    "for p in upper_point:\n",
    "    if p[1]>100 and  p[0] in range(x_min_left,x_max_left):\n",
    "        upper_left.append(p)\n",
    "for p in upper_point:\n",
    "    if p[1]>100 and p[0] in range(x_min_right,x_max_right):\n",
    "        upper_right.append(p)\n",
    "for p in lower_point:\n",
    "    if p[1]<150 and p[0] in range(x_min_left,x_max_left):\n",
    "        lower_left.append(p)\n",
    "for p in lower_point:\n",
    "    if p[1]<150  and p[0] in range(x_min_right,x_max_right):\n",
    "        lower_right.append(p)\n",
    "        "
   ]
  },
  {
   "cell_type": "code",
   "execution_count": 537,
   "metadata": {},
   "outputs": [],
   "source": [
    "test = np.zeros(img.shape[:2], np.uint8)\n",
    "for point in lower_right:\n",
    "    cv2.circle(test, (point[0], point[1]), radius=1, color=(255), thickness=1)\n",
    "for point in lower_left:\n",
    "    cv2.circle(test, (point[0], point[1]), radius=1, color=(255), thickness=1)\n",
    "for point in upper_right:\n",
    "    cv2.circle(test, (point[0], point[1]), radius=1, color=(255), thickness=1)\n",
    "for point in upper_left:\n",
    "    cv2.circle(test, (point[0], point[1]), radius=1, color=(255), thickness=1)\n"
   ]
  },
  {
   "cell_type": "code",
   "execution_count": 547,
   "metadata": {},
   "outputs": [
    {
     "data": {
      "text/plain": [
       "50"
      ]
     },
     "execution_count": 547,
     "metadata": {},
     "output_type": "execute_result"
    }
   ],
   "source": [
    "len(lower_right)"
   ]
  },
  {
   "cell_type": "code",
   "execution_count": 551,
   "metadata": {},
   "outputs": [
    {
     "data": {
      "text/plain": [
       "(224, 224, 3)"
      ]
     },
     "execution_count": 551,
     "metadata": {},
     "output_type": "execute_result"
    },
    {
     "ename": "",
     "evalue": "",
     "output_type": "error",
     "traceback": [
      "\u001b[1;31mThe Kernel crashed while executing code in the current cell or a previous cell. \n",
      "\u001b[1;31mPlease review the code in the cell(s) to identify a possible cause of the failure. \n",
      "\u001b[1;31mClick <a href='https://aka.ms/vscodeJupyterKernelCrash'>here</a> for more info. \n",
      "\u001b[1;31mView Jupyter <a href='command:jupyter.viewOutput'>log</a> for further details."
     ]
    }
   ],
   "source": [
    "isolated.shape\n"
   ]
  },
  {
   "cell_type": "code",
   "execution_count": 550,
   "metadata": {},
   "outputs": [
    {
     "data": {
      "text/plain": [
       "<matplotlib.image.AxesImage at 0x7f8693cacbb0>"
      ]
     },
     "execution_count": 550,
     "metadata": {},
     "output_type": "execute_result"
    },
    {
     "data": {
      "image/png": "[encoded data removed]",
      "text/plain": [
       "<Figure size 640x480 with 1 Axes>"
      ]
     },
     "metadata": {},
     "output_type": "display_data"
    }
   ],
   "source": [
    "plt.imshow(isolated)"
   ]
  },
  {
   "cell_type": "code",
   "execution_count": 549,
   "metadata": {},
   "outputs": [],
   "source": [
    "test = np.array(upper_left)"
   ]
  },
  {
   "cell_type": "code",
   "execution_count": 545,
   "metadata": {},
   "outputs": [
    {
     "data": {
      "text/plain": [
       "[array([ 25, 120]),\n",
       " array([ 25, 121]),\n",
       " array([ 25, 122]),\n",
       " array([ 25, 123]),\n",
       " array([ 25, 124]),\n",
       " array([ 26, 124]),\n",
       " array([ 26, 125]),\n",
       " array([ 26, 126]),\n",
       " array([ 27, 127]),\n",
       " array([ 28, 128]),\n",
       " array([ 29, 128]),\n",
       " array([ 29, 129]),\n",
       " array([ 30, 129]),\n",
       " array([ 31, 130]),\n",
       " array([ 31, 131]),\n",
       " array([ 32, 131]),\n",
       " array([ 33, 132]),\n",
       " array([ 34, 132]),\n",
       " array([ 35, 132]),\n",
       " array([ 35, 133]),\n",
       " array([ 36, 133]),\n",
       " array([ 37, 133]),\n",
       " array([ 38, 133]),\n",
       " array([ 39, 133]),\n",
       " array([ 39, 134]),\n",
       " array([ 40, 134]),\n",
       " array([ 41, 134]),\n",
       " array([ 42, 134]),\n",
       " array([ 43, 134]),\n",
       " array([ 44, 134]),\n",
       " array([ 45, 134]),\n",
       " array([ 46, 134]),\n",
       " array([ 47, 134]),\n",
       " array([ 48, 134]),\n",
       " array([ 49, 134]),\n",
       " array([ 50, 134]),\n",
       " array([ 51, 134]),\n",
       " array([ 52, 134]),\n",
       " array([ 53, 134]),\n",
       " array([ 54, 134]),\n",
       " array([ 55, 133]),\n",
       " array([ 55, 134]),\n",
       " array([ 56, 133]),\n",
       " array([ 57, 133]),\n",
       " array([ 58, 133]),\n",
       " array([ 59, 133]),\n",
       " array([ 60, 133]),\n",
       " array([ 61, 132]),\n",
       " array([ 62, 132]),\n",
       " array([ 63, 132]),\n",
       " array([ 64, 131]),\n",
       " array([ 64, 132]),\n",
       " array([ 65, 131]),\n",
       " array([ 66, 131]),\n",
       " array([ 67, 131]),\n",
       " array([ 68, 130]),\n",
       " array([ 69, 130]),\n",
       " array([ 70, 129]),\n",
       " array([ 71, 129]),\n",
       " array([ 72, 128]),\n",
       " array([ 72, 129]),\n",
       " array([ 73, 128]),\n",
       " array([ 74, 127]),\n",
       " array([ 75, 126]),\n",
       " array([ 75, 127]),\n",
       " array([ 76, 125]),\n",
       " array([ 77, 124]),\n",
       " array([ 77, 125]),\n",
       " array([ 78, 123]),\n",
       " array([ 79, 123]),\n",
       " array([ 80, 122])]"
      ]
     },
     "execution_count": 545,
     "metadata": {},
     "output_type": "execute_result"
    }
   ],
   "source": [
    "uni = np.unique("
   ]
  },
  {
   "cell_type": "code",
   "execution_count": 543,
   "metadata": {},
   "outputs": [
    {
     "name": "stdout",
     "output_type": "stream",
     "text": [
      "1\n",
      "1\n",
      "1\n",
      "1\n",
      "1\n",
      "1\n",
      "1\n",
      "1\n",
      "1\n",
      "1\n",
      "1\n"
     ]
    }
   ],
   "source": [
    "for i in range((x_max_left-x_min_left)//5):\n",
    "    print(\"1\")\n",
    "    point1 = upper_left[i*5]\n",
    "    point2 = lower_left[i*5]\n",
    "    cv2.line(test, point1, point2, color=(255), thickness=1)"
   ]
  },
  {
   "cell_type": "code",
   "execution_count": 544,
   "metadata": {},
   "outputs": [
    {
     "data": {
      "text/plain": [
       "<matplotlib.image.AxesImage at 0x7f86a2a186d0>"
      ]
     },
     "execution_count": 544,
     "metadata": {},
     "output_type": "execute_result"
    },
    {
     "data": {
      "image/png": "[encoded data removed]",
      "text/plain": [
       "<Figure size 640x480 with 1 Axes>"
      ]
     },
     "metadata": {},
     "output_type": "display_data"
    }
   ],
   "source": [
    "plt.imshow(test)"
   ]
  },
  {
   "cell_type": "code",
   "execution_count": 508,
   "metadata": {},
   "outputs": [
    {
     "data": {
      "text/plain": [
       "<matplotlib.image.AxesImage at 0x7f865098e250>"
      ]
     },
     "execution_count": 508,
     "metadata": {},
     "output_type": "execute_result"
    },
    {
     "data": {
      "image/png": "[encoded data removed]",
      "text/plain": [
       "<Figure size 640x480 with 1 Axes>"
      ]
     },
     "metadata": {},
     "output_type": "display_data"
    }
   ],
   "source": [
    "test = np.zeros(img.shape[:2], np.uint8)\n",
    "# for point in upper_point:\n",
    "#     cv2.circle(test, (point[0], point[1]), radius=1, color=(255), thickness=1)\n",
    "for point in p_intersect:\n",
    "    cv2.circle(test, (point[0], point[1]), radius=1, color=(122), thickness=1)\n",
    "plt.imshow(test)"
   ]
  },
  {
   "cell_type": "markdown",
   "metadata": {},
   "source": []
  },
  {
   "cell_type": "code",
   "execution_count": 388,
   "metadata": {},
   "outputs": [
    {
     "ename": "AttributeError",
     "evalue": "'tuple' object has no attribute 'shape'",
     "output_type": "error",
     "traceback": [
      "\u001b[0;31m---------------------------------------------------------------------------\u001b[0m",
      "\u001b[0;31mAttributeError\u001b[0m                            Traceback (most recent call last)",
      "Cell \u001b[0;32mIn[388], line 1\u001b[0m\n\u001b[0;32m----> 1\u001b[0m \u001b[43mnonzero_upper\u001b[49m\u001b[38;5;241;43m.\u001b[39;49m\u001b[43mshape\u001b[49m\n",
      "\u001b[0;31mAttributeError\u001b[0m: 'tuple' object has no attribute 'shape'"
     ]
    }
   ],
   "source": [
    "nonzero_upper.shape"
   ]
  },
  {
   "cell_type": "code",
   "execution_count": 335,
   "metadata": {},
   "outputs": [],
   "source": []
  },
  {
   "cell_type": "code",
   "execution_count": 336,
   "metadata": {},
   "outputs": [],
   "source": [
    "import matplotlib.pyplot as plt"
   ]
  },
  {
   "cell_type": "code",
   "execution_count": 364,
   "metadata": {},
   "outputs": [
    {
     "data": {
      "text/plain": [
       "(564, 2)"
      ]
     },
     "execution_count": 364,
     "metadata": {},
     "output_type": "execute_result"
    }
   ],
   "source": [
    "upper.shape    "
   ]
  },
  {
   "cell_type": "code",
   "execution_count": 365,
   "metadata": {},
   "outputs": [
    {
     "data": {
      "text/plain": [
       "(454, 2)"
      ]
     },
     "execution_count": 365,
     "metadata": {},
     "output_type": "execute_result"
    }
   ],
   "source": [
    "lower.shape"
   ]
  },
  {
   "cell_type": "code",
   "execution_count": 359,
   "metadata": {},
   "outputs": [],
   "source": [
    "nonzero = b_mask.nonzero() "
   ]
  },
  {
   "cell_type": "code",
   "execution_count": 363,
   "metadata": {},
   "outputs": [
    {
     "data": {
      "text/plain": [
       "(1100,)"
      ]
     },
     "execution_count": 363,
     "metadata": {},
     "output_type": "execute_result"
    }
   ],
   "source": [
    "nonzero[1].shape"
   ]
  },
  {
   "cell_type": "code",
   "execution_count": 373,
   "metadata": {},
   "outputs": [],
   "source": [
    "for i in range(nonzero[1].shape[0]):\n",
    "    cv2.circle(isolated, (nonzero[1][i], nonzero[0][i]), radius=1, color=(255,255,0), thickness=1)"
   ]
  },
  {
   "cell_type": "code",
   "execution_count": 375,
   "metadata": {},
   "outputs": [
    {
     "data": {
      "text/plain": [
       "113"
      ]
     },
     "execution_count": 375,
     "metadata": {},
     "output_type": "execute_result"
    }
   ],
   "source": [
    "cv2.imshow(\"test\",isolated)\n",
    "cv2.waitKey(0)"
   ]
  },
  {
   "cell_type": "code",
   "execution_count": 368,
   "metadata": {},
   "outputs": [],
   "source": [
    "pts = np.where(b_mask == 255)"
   ]
  },
  {
   "cell_type": "code",
   "execution_count": 321,
   "metadata": {},
   "outputs": [
    {
     "data": {
      "text/plain": [
       "array([[0, 0, 0, ..., 0, 0, 0],\n",
       "       [0, 0, 0, ..., 0, 0, 0],\n",
       "       [0, 0, 0, ..., 0, 0, 0],\n",
       "       ...,\n",
       "       [0, 0, 0, ..., 0, 0, 0],\n",
       "       [0, 0, 0, ..., 0, 0, 0],\n",
       "       [0, 0, 0, ..., 0, 0, 0]], dtype=uint8)"
      ]
     },
     "execution_count": 321,
     "metadata": {},
     "output_type": "execute_result"
    }
   ],
   "source": [
    "b_mask"
   ]
  },
  {
   "cell_type": "code",
   "execution_count": 320,
   "metadata": {},
   "outputs": [
    {
     "data": {
      "text/plain": [
       "(301,)"
      ]
     },
     "execution_count": 320,
     "metadata": {},
     "output_type": "execute_result"
    }
   ],
   "source": [
    "pts[0].shape"
   ]
  },
  {
   "cell_type": "code",
   "execution_count": 316,
   "metadata": {},
   "outputs": [
    {
     "name": "stdout",
     "output_type": "stream",
     "text": [
      "[  0   0   0   0   0   0   0   0   0   0   0   0   0   0   0   0   0   0   0   0   0   0   0   0   0   0   0   0   0   0   0   0   0   0   0   0   0   0   0   0   0   0   0   0   0   0   0   0   0   0 255   0   0   0   0   0   0   0   0   0   0   0   0   0   0   0   0   0   0   0   0   0   0   0   0   0   0   0   0\n",
      "   0   0   0   0   0   0   0   0   0   0   0   0   0   0   0   0   0   0   0   0   0   0   0   0   0   0   0   0   0   0   0   0   0   0   0   0   0   0   0   0   0   0   0   0   0   0   0   0   0   0   0   0   0   0   0   0   0   0   0   0   0   0   0   0   0   0   0   0   0   0   0   0   0   0   0   0   0   0   0\n",
      "   0   0   0   0   0   0   0   0   0   0   0   0   0   0   0   0   0   0   0   0   0   0   0   0   0   0   0   0   0   0   0   0   0   0   0   0   0   0   0   0   0   0   0   0   0   0   0   0   0   0   0   0   0   0   0   0   0   0   0   0   0   0   0   0   0   0   0   0   0   0   0   0   0   0   0   0   0   0   0\n",
      "   0   0   0   0   0   0   0   0   0   0   0   0   0   0   0   0   0   0   0   0   0   0   0   0   0   0   0   0   0   0   0   0   0   0   0   0   0   0   0   0   0   0   0   0   0   0   0   0   0   0   0   0   0   0   0   0   0   0   0   0   0   0   0   0   0   0   0   0   0   0   0   0   0   0   0   0   0   0   0\n",
      "   0   0   0   0   0   0   0   0   0   0   0   0   0   0   0   0   0   0   0   0   0   0   0   0   0   0   0   0   0   0   0   0   0   0   0   0   0   0   0   0   0   0   0   0   0   0   0   0   0   0   0   0   0   0   0   0   0   0   0   0   0   0   0   0   0   0   0   0   0   0   0   0   0   0   0   0   0   0   0\n",
      "   0   0   0   0   0]\n"
     ]
    }
   ],
   "source": [
    "\n",
    "# Create a blank mask\n",
    "height, width = 400, 400\n",
    "b_mask = np.zeros((height, width), dtype=np.uint8)\n",
    "\n",
    "# Draw a line\n",
    "start_point = (50, 50)\n",
    "end_point = (350, 350)\n",
    "line_thickness = 1\n",
    "line_color = 255\n",
    "cv2.line(b_mask, start_point, end_point, line_color, line_thickness)\n",
    "\n",
    "# Threshold the mask to set non-zero values to 255\n",
    "_, b_mask = cv2.threshold(b_mask, 1, 255, cv2.THRESH_BINARY)\n",
    "\n",
    "# Check the pixel values along the line\n",
    "y_min_lower = min(start_point[1], end_point[1])\n",
    "print(b_mask[:,y_min_lower])  # Should print 255 for the pixels along the line\n",
    "\n",
    "\n",
    "\n"
   ]
  },
  {
   "cell_type": "code",
   "execution_count": 314,
   "metadata": {},
   "outputs": [
    {
     "name": "stdout",
     "output_type": "stream",
     "text": [
      "[  0 255   0   0   0   0   0   0   0   0   0   0   0   0   0   0   0   0   0   0   0   0   0   0   0   0   0   0   0   0   0   0   0   0   0   0   0   0   0   0   0   0   0   0   0   0   0   0   0   0   0   0   0   0   0   0   0   0   0   0   0   0   0   0   0   0   0   0   0   0   0   0   0   0   0   0   0   0   0\n",
      "   0   0   0   0   0   0   0   0   0   0   0   0   0   0   0   0   0   0   0   0   0   0   0 255   0   0   0   0   0   0   0   0   0   0   0   0   0   0   0   0   0   0 255   0   0   0   0   0   0   0   0   0   0   0   0   0   0   0   0   0   0   0   0   0   0   0   0   0   0   0   0   0   0   0   0   0   0   0   0\n",
      "   0   0   0   0   0   0   0   0   0   0   0   0   0   0   0   0   0   0   0   0   0   0   0   0   0   0   0   0   0   0   0   0   0   0   0   0   0   0   0   0   0   0   0   0   0   0   0   0   0   0   0   0   0   0   0   0   0   0   0   0   0   0   0   0   0 255]\n"
     ]
    }
   ],
   "source": [
    "print(b_mask[:,y_min_lower])"
   ]
  },
  {
   "cell_type": "code",
   "execution_count": 315,
   "metadata": {},
   "outputs": [
    {
     "name": "stdout",
     "output_type": "stream",
     "text": [
      "[  0 255   0   0   0   0   0   0   0   0   0   0   0   0   0   0   0   0   0   0   0   0   0   0   0   0   0   0   0   0   0   0   0   0   0   0   0   0   0   0   0   0   0   0   0   0   0   0   0   0   0   0   0   0   0   0   0   0   0   0   0   0   0   0   0   0   0   0   0   0   0   0   0   0   0   0   0   0   0\n",
      "   0   0   0   0   0   0   0   0   0   0   0   0   0   0   0   0   0   0   0   0   0   0   0   0   0   0 255   0   0   0   0   0   0   0   0   0   0   0   0   0   0   0 255   0   0   0   0   0   0   0   0   0   0   0   0   0   0   0   0   0   0   0   0   0   0   0   0   0   0   0   0   0   0   0   0   0   0   0   0\n",
      "   0   0   0   0   0   0   0   0   0   0   0   0   0   0   0   0   0   0   0   0   0   0   0   0   0   0   0   0   0   0   0   0   0   0   0   0   0   0   0   0   0   0   0   0   0   0   0   0   0   0   0   0   0   0   0   0   0   0   0   0   0   0   0   0   0 255]\n"
     ]
    }
   ],
   "source": [
    "print(b_mask[:,y_min_lower+2])"
   ]
  },
  {
   "cell_type": "code",
   "execution_count": 311,
   "metadata": {},
   "outputs": [],
   "source": [
    "x_intersect = []\n",
    "for i in range(224):\n",
    "    if(b_mask[i][y_min_lower] != 0):\n",
    "        x_intersect.append(i)"
   ]
  },
  {
   "cell_type": "code",
   "execution_count": 312,
   "metadata": {},
   "outputs": [
    {
     "data": {
      "text/plain": [
       "121"
      ]
     },
     "execution_count": 312,
     "metadata": {},
     "output_type": "execute_result"
    }
   ],
   "source": [
    "y_min_lower"
   ]
  },
  {
   "cell_type": "code",
   "execution_count": 324,
   "metadata": {},
   "outputs": [
    {
     "name": "stdout",
     "output_type": "stream",
     "text": [
      "0\n"
     ]
    }
   ],
   "source": [
    "print(test[20,20])"
   ]
  },
  {
   "cell_type": "code",
   "execution_count": 323,
   "metadata": {},
   "outputs": [
    {
     "data": {
      "text/plain": [
       "array([[0, 0, 0, ..., 0, 0, 0],\n",
       "       [0, 0, 0, ..., 0, 0, 0],\n",
       "       [0, 0, 0, ..., 0, 0, 0],\n",
       "       ...,\n",
       "       [0, 0, 0, ..., 0, 0, 0],\n",
       "       [0, 0, 0, ..., 0, 0, 0],\n",
       "       [0, 0, 0, ..., 0, 0, 0]], dtype=uint8)"
      ]
     },
     "execution_count": 323,
     "metadata": {},
     "output_type": "execute_result"
    }
   ],
   "source": [
    "height, width = 400, 400\n",
    "test = np.zeros((height, width), dtype=np.uint8)\n",
    "cv2.circle(test, (20, 20), radius=3, color=(0, 255, 255), thickness=5)"
   ]
  },
  {
   "cell_type": "code",
   "execution_count": 313,
   "metadata": {},
   "outputs": [
    {
     "data": {
      "text/plain": [
       "[1, 102, 121, 223]"
      ]
     },
     "execution_count": 313,
     "metadata": {},
     "output_type": "execute_result"
    }
   ],
   "source": [
    "x_intersect"
   ]
  },
  {
   "cell_type": "code",
   "execution_count": 292,
   "metadata": {},
   "outputs": [
    {
     "data": {
      "text/plain": [
       "array([  0, 255,   0,   0,   0,   0,   0,   0,   0,   0,   0,   0,   0,   0,   0,   0,   0,   0,   0,   0,   0,   0,   0,   0,   0,   0,   0,   0,   0,   0,   0,   0,   0,   0,   0,   0,   0,   0,   0,   0,   0,   0,   0,   0,   0,   0,   0,   0,   0,   0,   0,   0,   0,   0,   0,   0,   0,   0,   0,   0,   0,   0,\n",
       "         0,   0,   0,   0,   0,   0,   0,   0,   0,   0,   0,   0,   0,   0,   0,   0,   0,   0,   0,   0,   0,   0,   0,   0,   0,   0,   0,   0,   0,   0,   0,   0,   0,   0,   0,   0,   0,   0,   0,   0, 255,   0,   0,   0,   0,   0,   0,   0,   0,   0,   0,   0,   0,   0,   0,   0,   0,   0,   0, 255,   0,   0,\n",
       "         0,   0,   0,   0,   0,   0,   0,   0,   0,   0,   0,   0,   0,   0,   0,   0,   0,   0,   0,   0,   0,   0,   0,   0,   0,   0,   0,   0,   0,   0,   0,   0,   0,   0,   0,   0,   0,   0,   0,   0,   0,   0,   0,   0,   0,   0,   0,   0,   0,   0,   0,   0,   0,   0,   0,   0,   0,   0,   0,   0,   0,   0,\n",
       "         0,   0,   0,   0,   0,   0,   0,   0,   0,   0,   0,   0,   0,   0,   0,   0,   0,   0,   0,   0,   0,   0,   0,   0,   0,   0,   0,   0,   0,   0,   0,   0,   0,   0,   0,   0,   0, 255], dtype=uint8)"
      ]
     },
     "execution_count": 292,
     "metadata": {},
     "output_type": "execute_result"
    }
   ],
   "source": [
    "b_mask[:,y_min_lower]"
   ]
  },
  {
   "cell_type": "code",
   "execution_count": 302,
   "metadata": {},
   "outputs": [
    {
     "data": {
      "text/plain": [
       "[1, 102, 121, 223]"
      ]
     },
     "execution_count": 302,
     "metadata": {},
     "output_type": "execute_result"
    }
   ],
   "source": [
    "x_intersect"
   ]
  },
  {
   "cell_type": "code",
   "execution_count": null,
   "metadata": {},
   "outputs": [],
   "source": [
    "upper_point = []\n",
    "for x in range(x_min,x_max):\n",
    "    for y in range()\n",
    "    if b_mask["
   ]
  },
  {
   "cell_type": "code",
   "execution_count": 271,
   "metadata": {},
   "outputs": [
    {
     "data": {
      "text/plain": [
       "array([  0, 255,   0,   0,   0,   0,   0,   0,   0,   0,   0,   0,   0,   0,   0,   0,   0,   0,   0,   0,   0,   0,   0,   0,   0,   0,   0,   0,   0,   0,   0,   0,   0,   0,   0,   0,   0,   0,   0,   0,   0,   0,   0,   0,   0,   0,   0,   0,   0,   0,   0,   0,   0,   0,   0,   0,   0,   0,   0,   0,   0,   0,\n",
       "         0,   0,   0,   0,   0,   0,   0,   0,   0,   0,   0,   0,   0,   0,   0,   0,   0,   0,   0,   0,   0,   0,   0,   0,   0,   0,   0,   0,   0,   0,   0,   0,   0,   0,   0,   0,   0,   0,   0,   0, 255,   0,   0,   0,   0,   0,   0,   0,   0,   0,   0,   0,   0,   0,   0,   0,   0,   0,   0, 255,   0,   0,\n",
       "         0,   0,   0,   0,   0,   0,   0,   0,   0,   0,   0,   0,   0,   0,   0,   0,   0,   0,   0,   0,   0,   0,   0,   0,   0,   0,   0,   0,   0,   0,   0,   0,   0,   0,   0,   0,   0,   0,   0,   0,   0,   0,   0,   0,   0,   0,   0,   0,   0,   0,   0,   0,   0,   0,   0,   0,   0,   0,   0,   0,   0,   0,\n",
       "         0,   0,   0,   0,   0,   0,   0,   0,   0,   0,   0,   0,   0,   0,   0,   0,   0,   0,   0,   0,   0,   0,   0,   0,   0,   0,   0,   0,   0,   0,   0,   0,   0,   0,   0,   0,   0, 255], dtype=uint8)"
      ]
     },
     "execution_count": 271,
     "metadata": {},
     "output_type": "execute_result"
    }
   ],
   "source": [
    "b_mask[:,y_min_lower]"
   ]
  },
  {
   "cell_type": "code",
   "execution_count": 247,
   "metadata": {},
   "outputs": [],
   "source": [
    "start_point = (x_min_upper,y_min_lower)  # X-coordinate, Y-coordinate\n",
    "end_point = (x_max_upper,y_min_lower)   # X-coordinate, Y-coordinate\n",
    "\n",
    "# Define line color (BGR format)\n",
    "color = (255, 0, 0)  # Blue color\n",
    "\n",
    "# Draw the line with thickness of 2 pixels\n",
    "thickness = 1\n",
    "image = cv2.line(b_mask, start_point, end_point, color, thickness)"
   ]
  },
  {
   "cell_type": "code",
   "execution_count": 267,
   "metadata": {},
   "outputs": [],
   "source": [
    "for x in x_intersect:\n",
    "    cv2.circle(mask3ch, (x, y_min_lower), radius=3, color=(0, 255, 255), thickness=5)"
   ]
  },
  {
   "cell_type": "code",
   "execution_count": 296,
   "metadata": {},
   "outputs": [],
   "source": [
    "isolated = cv2.cvtColor(isolated, cv2.COLOR_BGR2GRAY)"
   ]
  },
  {
   "cell_type": "code",
   "execution_count": 298,
   "metadata": {},
   "outputs": [
    {
     "data": {
      "text/plain": [
       "113"
      ]
     },
     "execution_count": 298,
     "metadata": {},
     "output_type": "execute_result"
    }
   ],
   "source": [
    "cv2.imshow('image',isolated)\n",
    "cv2.waitKey(0)"
   ]
  },
  {
   "cell_type": "code",
   "execution_count": 297,
   "metadata": {},
   "outputs": [
    {
     "data": {
      "text/plain": [
       "(224, 224)"
      ]
     },
     "execution_count": 297,
     "metadata": {},
     "output_type": "execute_result"
    }
   ],
   "source": [
    "isolated.shape"
   ]
  },
  {
   "cell_type": "code",
   "execution_count": 231,
   "metadata": {},
   "outputs": [],
   "source": []
  },
  {
   "cell_type": "code",
   "execution_count": 146,
   "metadata": {},
   "outputs": [
    {
     "data": {
      "text/plain": [
       "(564, 2)"
      ]
     },
     "execution_count": 146,
     "metadata": {},
     "output_type": "execute_result"
    }
   ],
   "source": [
    "upper.shape"
   ]
  },
  {
   "cell_type": "code",
   "execution_count": 356,
   "metadata": {},
   "outputs": [
    {
     "data": {
      "text/plain": [
       "(564,)"
      ]
     },
     "execution_count": 356,
     "metadata": {},
     "output_type": "execute_result"
    }
   ],
   "source": [
    "upper[:,1].shape"
   ]
  },
  {
   "cell_type": "code",
   "execution_count": 181,
   "metadata": {},
   "outputs": [],
   "source": [
    "newupper = []"
   ]
  },
  {
   "cell_type": "code",
   "execution_count": 182,
   "metadata": {},
   "outputs": [],
   "source": [
    "count = 0"
   ]
  },
  {
   "cell_type": "code",
   "execution_count": 183,
   "metadata": {},
   "outputs": [],
   "source": [
    "for point in upper[:]:\n",
    "    count+=1\n",
    "    if point[1]!= 1 and point[1]!=224:\n",
    "        newupper.append(point)\n",
    "newupper=np.array(newupper)"
   ]
  },
  {
   "cell_type": "code",
   "execution_count": 184,
   "metadata": {},
   "outputs": [
    {
     "name": "stdout",
     "output_type": "stream",
     "text": [
      "564\n"
     ]
    }
   ],
   "source": [
    "print(count)"
   ]
  },
  {
   "cell_type": "code",
   "execution_count": 185,
   "metadata": {},
   "outputs": [
    {
     "data": {
      "text/plain": [
       "(558, 2)"
      ]
     },
     "execution_count": 185,
     "metadata": {},
     "output_type": "execute_result"
    }
   ],
   "source": [
    "newupper.shape"
   ]
  },
  {
   "cell_type": "code",
   "execution_count": 156,
   "metadata": {},
   "outputs": [
    {
     "data": {
      "text/plain": [
       "(454, 2)"
      ]
     },
     "execution_count": 156,
     "metadata": {},
     "output_type": "execute_result"
    }
   ],
   "source": [
    "lower.shape"
   ]
  },
  {
   "cell_type": "code",
   "execution_count": 153,
   "metadata": {},
   "outputs": [
    {
     "data": {
      "text/plain": [
       "(564, 2)"
      ]
     },
     "execution_count": 153,
     "metadata": {},
     "output_type": "execute_result"
    }
   ],
   "source": [
    "upper.shape"
   ]
  },
  {
   "cell_type": "code",
   "execution_count": 154,
   "metadata": {},
   "outputs": [
    {
     "data": {
      "text/plain": [
       "array([41,  1], dtype=int32)"
      ]
     },
     "execution_count": 154,
     "metadata": {},
     "output_type": "execute_result"
    }
   ],
   "source": [
    "upper[0]"
   ]
  },
  {
   "cell_type": "code",
   "execution_count": null,
   "metadata": {},
   "outputs": [],
   "source": [
    "newcontour = []"
   ]
  },
  {
   "cell_type": "code",
   "execution_count": null,
   "metadata": {},
   "outputs": [],
   "source": []
  }
 ],
 "metadata": {
  "kernelspec": {
   "display_name": "Python 3",
   "language": "python",
   "name": "python3"
  },
  "language_info": {
   "codemirror_mode": {
    "name": "ipython",
    "version": 3
   },
   "file_extension": ".py",
   "mimetype": "text/x-python",
   "name": "python",
   "nbconvert_exporter": "python",
   "pygments_lexer": "ipython3",
   "version": "3.8.0"
  }
 },
 "nbformat": 4,
 "nbformat_minor": 2
}
